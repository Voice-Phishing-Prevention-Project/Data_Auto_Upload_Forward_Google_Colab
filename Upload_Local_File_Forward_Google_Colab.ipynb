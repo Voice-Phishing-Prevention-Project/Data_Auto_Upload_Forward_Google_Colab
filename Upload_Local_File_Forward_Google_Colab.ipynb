{
  "nbformat": 4,
  "nbformat_minor": 0,
  "metadata": {
    "colab": {
      "provenance": []
    },
    "kernelspec": {
      "name": "python3",
      "display_name": "Python 3"
    },
    "language_info": {
      "name": "python"
    }
  },
  "cells": [
    {
      "cell_type": "code",
      "execution_count": null,
      "metadata": {
        "id": "1zyqUF1eazWr"
      },
      "outputs": [],
      "source": [
        "# Google Colab에 로그인하여 인증 받기\n",
        "from google.colab import drive\n",
        "drive.mount('/content/gdrive')\n",
        "\n",
        "# 파일 업로드 함수 정의\n",
        "def upload_file_to_colab(file_path, colab_path):\n",
        "    from google.colab import files\n",
        "\n",
        "    # 로컬 파일을 Colab으로 업로드\n",
        "    files.upload()\n",
        "\n",
        "    # 업로드된 파일을 지정된 경로로 이동\n",
        "    import os\n",
        "    file_name = os.path.basename(file_path)\n",
        "    uploaded_file_path = list(files.upload())[0]\n",
        "    shutil.move(uploaded_file_path, colab_path)\n",
        "    print(f\"Uploaded '{file_path}' to Colab: '{colab_path}'\")\n",
        "\n",
        "# 로컬 환경의 파일 경로와 Colab에 업로드할 경로 지정\n",
        "local_file_path = r\"C:\\Users\\USER\\OneDrive\\file.txt\"\n",
        "colab_file_path = \"/content/gdrive/MyDrive/file.txt\"\n",
        "\n",
        "# 파일 업로드 함수 호출\n",
        "upload_file_to_colab(local_file_path, colab_file_path)"
      ]
    }
  ]
}